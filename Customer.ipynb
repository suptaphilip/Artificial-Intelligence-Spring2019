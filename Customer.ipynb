{
 "cells": [
  {
   "cell_type": "code",
   "execution_count": 4,
   "metadata": {},
   "outputs": [],
   "source": [
    "class Customer:\n",
    "    #Default constructor and parameterized constructor\n",
    "    def __init__(self, CustomerId, CustomerName, Email):\n",
    "        self.CustomerId = CustomerId\n",
    "        self.CustomerName = CustomerName\n",
    "        self.Email = Email\n",
    "\n",
    "        \n",
    "    def setCustomerId(self,CustomerId):\n",
    "         self.CustomerId = CustomerId\n",
    "    \n",
    "    def setCustomerName(self,CustomerName):\n",
    "        self.CustomerName = CustomerName\n",
    "        \n",
    "    def setEmail(self,Email):\n",
    "        self.Email=Email\n",
    "    \n",
    "        \n",
    "    def getCustomerId(self):\n",
    "         return self.CustomerId\n",
    "    \n",
    "    def getCustomerName(self):\n",
    "        return self.CustomerName\n",
    "        \n",
    "    def getEmail(self):\n",
    "        return self.Email\n",
    "\n",
    "        \n",
    "\n",
    "    def displayCustomer(self):\n",
    "        print(\"Customer ID : \", self.CustomerId,  \"\\nCustomer Name: \", self.CustomerName,\n",
    "        \"\\nEmail : \", self.Email)\n"
   ]
  },
  {
   "cell_type": "code",
   "execution_count": 5,
   "metadata": {},
   "outputs": [
    {
     "name": "stdout",
     "output_type": "stream",
     "text": [
      "Customer ID :  100 \n",
      "Customer Name:  Mr.y \n",
      "Email :  supta@gmail.com\n"
     ]
    }
   ],
   "source": [
    "#product 1 object is creating using parameterized constructor\n",
    "cus1 = Customer(100,\"Mr.y\", \"supta@gmail.com\")\n",
    "cus1.displayCustomer()"
   ]
  },
  {
   "cell_type": "code",
   "execution_count": null,
   "metadata": {},
   "outputs": [],
   "source": []
  }
 ],
 "metadata": {
  "kernelspec": {
   "display_name": "Python 3",
   "language": "python",
   "name": "python3"
  },
  "language_info": {
   "codemirror_mode": {
    "name": "ipython",
    "version": 3
   },
   "file_extension": ".py",
   "mimetype": "text/x-python",
   "name": "python",
   "nbconvert_exporter": "python",
   "pygments_lexer": "ipython3",
   "version": "3.7.3"
  }
 },
 "nbformat": 4,
 "nbformat_minor": 2
}
